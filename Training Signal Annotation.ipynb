{
 "cells": [
  {
   "cell_type": "markdown",
   "id": "99c9bcc2-ccdc-48ee-801e-705328255402",
   "metadata": {},
   "source": [
    "# Signal Annotation on documents with Pandas and Modin"
   ]
  },
  {
   "cell_type": "markdown",
   "id": "ab1bb2e2-f2c5-41a3-8e7a-355002e9dd9e",
   "metadata": {},
   "source": [
    "High quality, annotated data is key to pre-train LLMs. In general, you need to assemble a large corpus of web data and filter the data based on annotated signal. In this demo, we will show an example of how you can extract some signals from text data to annotate each document. \n",
    "\n",
    "Since large volumes of data needs to be processed, the annotation step can be take a very long time. For reference, modern LLM training often require several trillions of tokens, [Snowflake Arctic](https://www.snowflake.com/en/data-cloud/arctic/) is trained on 3.5 trillion tokens sourced from the public domain, encompassing web content, code & SQL, STEM, and more. \n",
    "\n",
    "We demonstrate how you can use Modin to parallelize the operations without having to rewrite your code and additional infrastructure setup. Modin seamlessly speed up your annotation code. \n",
    "\n",
    "👉 To learn more about reciepes and best practices for pre-training, fine-tuning, and deployomg LLM models, check out our [Snowflake Arctic Cookbook](https://medium.com/snowflake/snowflake-arctic-cookbook-series-arctics-approach-to-data-b81a8a0958bd) for more details."
   ]
  },
  {
   "cell_type": "code",
   "execution_count": 1,
   "id": "163ed203-39dd-4234-b605-5d5f776c1f9c",
   "metadata": {},
   "outputs": [],
   "source": [
    "import warnings\n",
    "warnings.filterwarnings(\"ignore\")"
   ]
  },
  {
   "cell_type": "markdown",
   "id": "4d740e5c-79b0-4155-9324-ba456e14e204",
   "metadata": {},
   "source": [
    "# Annotation: Extracting signals from text"
   ]
  },
  {
   "cell_type": "code",
   "execution_count": 2,
   "id": "35575f4c-f497-48df-93f7-ffb65f1c13a2",
   "metadata": {},
   "outputs": [],
   "source": [
    "def annotate_Uppercase_Letter_Fraction(json):\n",
    "    \"\"\"\n",
    "    Ratio between number of uppercase letters and total number of\n",
    "    characters in each line\n",
    "    \"\"\"\n",
    "    if \"text\" in json:\n",
    "        if len(json[\"text\"]) == 0:\n",
    "            return 0\n",
    "        else:\n",
    "            score = sum(map(str.isupper, json[\"text\"])) / len(json[\"text\"])\n",
    "            score = round(score, 8)\n",
    "            return score\n",
    "    return 0"
   ]
  },
  {
   "cell_type": "code",
   "execution_count": 3,
   "id": "4bb6c129-5116-4337-93fb-f0a24f8d2e37",
   "metadata": {},
   "outputs": [],
   "source": [
    "def annotate_Num_Words(json):\n",
    "    \"\"\"\n",
    "    Number of words in each line\n",
    "    \"\"\"\n",
    "    if \"text\" in json:\n",
    "        score = len(json[\"text\"].split())\n",
    "        return score\n",
    "    return 0"
   ]
  },
  {
   "cell_type": "code",
   "execution_count": 4,
   "id": "3c801ec2-1206-459e-adca-f7b2b04675d9",
   "metadata": {},
   "outputs": [],
   "source": [
    "def annotate_Num_Chars_Fraction(json):\n",
    "    \"\"\"\n",
    "    Ratio between number of numerical characters and total number of\n",
    "    characters in each line.\n",
    "    \"\"\"\n",
    "    if \"text\" in json:\n",
    "        if len(json[\"text\"]) == 0:\n",
    "            return 0\n",
    "        else:\n",
    "            score = sum(map(str.isnumeric, json[\"text\"])) / len(json[\"text\"])\n",
    "            return score\n",
    "    return 0"
   ]
  },
  {
   "cell_type": "code",
   "execution_count": 5,
   "id": "f27ae388-df73-4f7a-be5a-f998a07e033a",
   "metadata": {},
   "outputs": [],
   "source": [
    "def annotate(json):\n",
    "    # Extracting signals from text to annotate each document\n",
    "    upper_frac = annotate_Uppercase_Letter_Fraction(json)\n",
    "    num_words = annotate_Num_Words(json)\n",
    "    numeric_frac = annotate_Num_Chars_Fraction(json)\n",
    "    return [upper_frac,num_words,numeric_frac]"
   ]
  },
  {
   "cell_type": "markdown",
   "id": "721cb080-53db-4ae3-a9d4-1f9a1777c040",
   "metadata": {},
   "source": [
    "# Data processing with pandas\n",
    "\n",
    "Using pandas, we load in JSON file containing large numbers of documents. Then we do an `apply` to run the signal annotation code on each document to extract and compute the three signals. pandas is single threaded and each document is processed one at a time.\n",
    "\n",
    "In the examples Github repo, we have attached an example dataset `documents.jsonl`. The full file `job_0_part_1_3100000.jsonl` is over 900MB and represents 310000 documents in a similar format."
   ]
  },
  {
   "cell_type": "code",
   "execution_count": 6,
   "id": "4684cc02-1e9b-4ae0-9f63-f2d229027b5e",
   "metadata": {},
   "outputs": [],
   "source": [
    "import pandas\n",
    "json_list = pandas.read_json(path_or_buf=\"job_0_part_1_3100000.jsonl\", lines=True)"
   ]
  },
  {
   "cell_type": "code",
   "execution_count": 7,
   "id": "19e3b71f-a00e-42d1-9a83-84f4d9115375",
   "metadata": {},
   "outputs": [],
   "source": [
    "import time\n",
    "start = time.time()\n",
    "annotated_json =  json_list.apply(annotate,axis=1)\n",
    "end = time.time()"
   ]
  },
  {
   "cell_type": "code",
   "execution_count": 8,
   "id": "f1de7b64-be20-4a0e-a3ea-e1d0c1af54e8",
   "metadata": {},
   "outputs": [
    {
     "name": "stdout",
     "output_type": "stream",
     "text": [
      "Time to process 310000 documents with pandas: 25.43s\n"
     ]
    }
   ],
   "source": [
    "pandas_time = end-start\n",
    "print (f\"Time to process {len(json_list)} documents with pandas: {pandas_time:.2f}s\")"
   ]
  },
  {
   "cell_type": "code",
   "execution_count": 9,
   "id": "88d3b296-597d-4b11-815f-b2bbd28793dd",
   "metadata": {},
   "outputs": [],
   "source": [
    "signals = pandas.DataFrame(annotated_json.to_list(),columns=[\"Uppercase_Letter_Fraction\",\"Num_Words\",\"Num_Chars_Fraction\"])\n",
    "pandas_df = pandas.concat([json_list,signals],axis=1)"
   ]
  },
  {
   "cell_type": "code",
   "execution_count": 10,
   "id": "b14821fb-3480-45c5-aa55-859e346d301c",
   "metadata": {},
   "outputs": [
    {
     "data": {
      "text/html": [
       "<div>\n",
       "<style scoped>\n",
       "    .dataframe tbody tr th:only-of-type {\n",
       "        vertical-align: middle;\n",
       "    }\n",
       "\n",
       "    .dataframe tbody tr th {\n",
       "        vertical-align: top;\n",
       "    }\n",
       "\n",
       "    .dataframe thead th {\n",
       "        text-align: right;\n",
       "    }\n",
       "</style>\n",
       "<table border=\"1\" class=\"dataframe\">\n",
       "  <thead>\n",
       "    <tr style=\"text-align: right;\">\n",
       "      <th></th>\n",
       "      <th>url</th>\n",
       "      <th>timestamp</th>\n",
       "      <th>dump</th>\n",
       "      <th>segment</th>\n",
       "      <th>image_urls</th>\n",
       "      <th>text</th>\n",
       "      <th>Uppercase_Letter_Fraction</th>\n",
       "      <th>Num_Words</th>\n",
       "      <th>Num_Chars_Fraction</th>\n",
       "    </tr>\n",
       "  </thead>\n",
       "  <tbody>\n",
       "    <tr>\n",
       "      <th>0</th>\n",
       "      <td>http://100parts.wordpress.com/2012/08/04/astra...</td>\n",
       "      <td>2013-05-18 10:42:00</td>\n",
       "      <td>CC-MAIN-2013-20</td>\n",
       "      <td>1368696382261</td>\n",
       "      <td>[]</td>\n",
       "      <td>these birches can be found in many places in E...</td>\n",
       "      <td>0.027237</td>\n",
       "      <td>93</td>\n",
       "      <td>0.007782</td>\n",
       "    </tr>\n",
       "    <tr>\n",
       "      <th>1</th>\n",
       "      <td>http://100percentwinnersblog.com/watch-survivo...</td>\n",
       "      <td>2013-05-18 11:02:03</td>\n",
       "      <td>CC-MAIN-2013-20</td>\n",
       "      <td>1368696382261</td>\n",
       "      <td>[]</td>\n",
       "      <td>Watch Survivor Redemption Island Season 22 Epi...</td>\n",
       "      <td>0.042616</td>\n",
       "      <td>1885</td>\n",
       "      <td>0.009166</td>\n",
       "    </tr>\n",
       "    <tr>\n",
       "      <th>2</th>\n",
       "      <td>http://101squadron.com/blog/2007/05/pesky-pecu...</td>\n",
       "      <td>2013-05-18 10:21:35</td>\n",
       "      <td>CC-MAIN-2013-20</td>\n",
       "      <td>1368696382261</td>\n",
       "      <td>[[http://101squadron.com/uploaded_images/Conge...</td>\n",
       "      <td>Pesky?\\nthis was a high school project for a p...</td>\n",
       "      <td>0.005128</td>\n",
       "      <td>37</td>\n",
       "      <td>0.000000</td>\n",
       "    </tr>\n",
       "    <tr>\n",
       "      <th>3</th>\n",
       "      <td>http://1037theloon.com/tags/scorpions/</td>\n",
       "      <td>2013-05-18 10:21:51</td>\n",
       "      <td>CC-MAIN-2013-20</td>\n",
       "      <td>1368696382261</td>\n",
       "      <td>[]</td>\n",
       "      <td>metalkingdom.net [ 80′s @ 8 Feature Video – Bi...</td>\n",
       "      <td>0.091816</td>\n",
       "      <td>92</td>\n",
       "      <td>0.027944</td>\n",
       "    </tr>\n",
       "    <tr>\n",
       "      <th>4</th>\n",
       "      <td>http://1063thebuzz.com/category/reviews/page/7/</td>\n",
       "      <td>2013-05-18 10:31:09</td>\n",
       "      <td>CC-MAIN-2013-20</td>\n",
       "      <td>1368696382261</td>\n",
       "      <td>[[https://s3.amazonaws.com/tsm-images/global/1...</td>\n",
       "      <td>Splice Review\\nBlack Ops Escalation Map Pack [...</td>\n",
       "      <td>0.190000</td>\n",
       "      <td>32</td>\n",
       "      <td>0.025000</td>\n",
       "    </tr>\n",
       "  </tbody>\n",
       "</table>\n",
       "</div>"
      ],
      "text/plain": [
       "                                                 url           timestamp  \\\n",
       "0  http://100parts.wordpress.com/2012/08/04/astra... 2013-05-18 10:42:00   \n",
       "1  http://100percentwinnersblog.com/watch-survivo... 2013-05-18 11:02:03   \n",
       "2  http://101squadron.com/blog/2007/05/pesky-pecu... 2013-05-18 10:21:35   \n",
       "3             http://1037theloon.com/tags/scorpions/ 2013-05-18 10:21:51   \n",
       "4    http://1063thebuzz.com/category/reviews/page/7/ 2013-05-18 10:31:09   \n",
       "\n",
       "              dump        segment  \\\n",
       "0  CC-MAIN-2013-20  1368696382261   \n",
       "1  CC-MAIN-2013-20  1368696382261   \n",
       "2  CC-MAIN-2013-20  1368696382261   \n",
       "3  CC-MAIN-2013-20  1368696382261   \n",
       "4  CC-MAIN-2013-20  1368696382261   \n",
       "\n",
       "                                          image_urls  \\\n",
       "0                                                 []   \n",
       "1                                                 []   \n",
       "2  [[http://101squadron.com/uploaded_images/Conge...   \n",
       "3                                                 []   \n",
       "4  [[https://s3.amazonaws.com/tsm-images/global/1...   \n",
       "\n",
       "                                                text  \\\n",
       "0  these birches can be found in many places in E...   \n",
       "1  Watch Survivor Redemption Island Season 22 Epi...   \n",
       "2  Pesky?\\nthis was a high school project for a p...   \n",
       "3  metalkingdom.net [ 80′s @ 8 Feature Video – Bi...   \n",
       "4  Splice Review\\nBlack Ops Escalation Map Pack [...   \n",
       "\n",
       "   Uppercase_Letter_Fraction  Num_Words  Num_Chars_Fraction  \n",
       "0                   0.027237         93            0.007782  \n",
       "1                   0.042616       1885            0.009166  \n",
       "2                   0.005128         37            0.000000  \n",
       "3                   0.091816         92            0.027944  \n",
       "4                   0.190000         32            0.025000  "
      ]
     },
     "execution_count": 10,
     "metadata": {},
     "output_type": "execute_result"
    }
   ],
   "source": [
    "pandas_df.head()"
   ]
  },
  {
   "cell_type": "markdown",
   "id": "5cc86b11-3878-491d-a226-eba93a03a507",
   "metadata": {},
   "source": [
    "# Data processing with Modin\n",
    "\n",
    "Using Modin, we perform the same operation. Modin parallelizes the `apply` operation so that the annotations are performed across different documents in parallel. You get the benefit of parallelism by just changing a single line of import!"
   ]
  },
  {
   "cell_type": "code",
   "execution_count": 11,
   "id": "bb83ca83-fddc-41d5-af5a-f92f453d18ab",
   "metadata": {},
   "outputs": [
    {
     "name": "stderr",
     "output_type": "stream",
     "text": [
      "2024-06-05 16:25:59,823\tINFO worker.py:1752 -- Started a local Ray instance.\n"
     ]
    }
   ],
   "source": [
    "import modin.pandas as pd\n",
    "json_list = pd.read_json(path_or_buf=\"job_0_part_1_3100000.jsonl\", lines=True)"
   ]
  },
  {
   "cell_type": "code",
   "execution_count": 12,
   "id": "2ec99f69-17be-466e-84f7-73662582861c",
   "metadata": {},
   "outputs": [],
   "source": [
    "start = time.time()\n",
    "annotated_json =  json_list.apply(annotate,axis=1)\n",
    "end = time.time()"
   ]
  },
  {
   "cell_type": "code",
   "execution_count": 13,
   "id": "8ca7fd95-09d3-4238-9562-187e0cf00fae",
   "metadata": {},
   "outputs": [
    {
     "name": "stdout",
     "output_type": "stream",
     "text": [
      "Time to process 310000 documents with modin: 7.86s\n",
      "Modin is 3.2X faster than pandas\n"
     ]
    }
   ],
   "source": [
    "modin_time = end-start\n",
    "print (f\"Time to process {len(json_list)} documents with modin: {end-start:.2f}s\")\n",
    "print (f\"Modin is {pandas_time/modin_time:.1f}X faster than pandas\")"
   ]
  },
  {
   "cell_type": "code",
   "execution_count": 14,
   "id": "71fb0a87-89b2-45a2-ae06-3a91ada28c2e",
   "metadata": {},
   "outputs": [],
   "source": [
    "signals = pd.DataFrame(annotated_json.to_list(),columns=[\"Uppercase_Letter_Fraction\",\"Num_Words\",\"Num_Chars_Fraction\"])\n",
    "modin_df = pd.concat([json_list,signals],axis=1)"
   ]
  },
  {
   "cell_type": "code",
   "execution_count": 15,
   "id": "069b8123-c824-45f5-9bdf-8ac96182ce89",
   "metadata": {},
   "outputs": [
    {
     "data": {
      "text/html": [
       "<div>\n",
       "<style scoped>\n",
       "    .dataframe tbody tr th:only-of-type {\n",
       "        vertical-align: middle;\n",
       "    }\n",
       "\n",
       "    .dataframe tbody tr th {\n",
       "        vertical-align: top;\n",
       "    }\n",
       "\n",
       "    .dataframe thead th {\n",
       "        text-align: right;\n",
       "    }\n",
       "</style>\n",
       "<table border=\"1\" class=\"dataframe\">\n",
       "  <thead>\n",
       "    <tr style=\"text-align: right;\">\n",
       "      <th></th>\n",
       "      <th>url</th>\n",
       "      <th>timestamp</th>\n",
       "      <th>dump</th>\n",
       "      <th>segment</th>\n",
       "      <th>image_urls</th>\n",
       "      <th>text</th>\n",
       "      <th>Uppercase_Letter_Fraction</th>\n",
       "      <th>Num_Words</th>\n",
       "      <th>Num_Chars_Fraction</th>\n",
       "    </tr>\n",
       "  </thead>\n",
       "  <tbody>\n",
       "    <tr>\n",
       "      <th>0</th>\n",
       "      <td>http://100parts.wordpress.com/2012/08/04/astra...</td>\n",
       "      <td>2013-05-18 10:42:00</td>\n",
       "      <td>CC-MAIN-2013-20</td>\n",
       "      <td>1.368696e+12</td>\n",
       "      <td>[]</td>\n",
       "      <td>these birches can be found in many places in E...</td>\n",
       "      <td>0.027237</td>\n",
       "      <td>93</td>\n",
       "      <td>0.007782</td>\n",
       "    </tr>\n",
       "    <tr>\n",
       "      <th>1</th>\n",
       "      <td>http://100percentwinnersblog.com/watch-survivo...</td>\n",
       "      <td>2013-05-18 11:02:03</td>\n",
       "      <td>CC-MAIN-2013-20</td>\n",
       "      <td>1.368696e+12</td>\n",
       "      <td>[]</td>\n",
       "      <td>Watch Survivor Redemption Island Season 22 Epi...</td>\n",
       "      <td>0.042616</td>\n",
       "      <td>1885</td>\n",
       "      <td>0.009166</td>\n",
       "    </tr>\n",
       "    <tr>\n",
       "      <th>2</th>\n",
       "      <td>http://101squadron.com/blog/2007/05/pesky-pecu...</td>\n",
       "      <td>2013-05-18 10:21:35</td>\n",
       "      <td>CC-MAIN-2013-20</td>\n",
       "      <td>1.368696e+12</td>\n",
       "      <td>[[http://101squadron.com/uploaded_images/Conge...</td>\n",
       "      <td>Pesky?\\nthis was a high school project for a p...</td>\n",
       "      <td>0.005128</td>\n",
       "      <td>37</td>\n",
       "      <td>0.000000</td>\n",
       "    </tr>\n",
       "    <tr>\n",
       "      <th>3</th>\n",
       "      <td>http://1037theloon.com/tags/scorpions/</td>\n",
       "      <td>2013-05-18 10:21:51</td>\n",
       "      <td>CC-MAIN-2013-20</td>\n",
       "      <td>1.368696e+12</td>\n",
       "      <td>[]</td>\n",
       "      <td>metalkingdom.net [ 80′s @ 8 Feature Video – Bi...</td>\n",
       "      <td>0.091816</td>\n",
       "      <td>92</td>\n",
       "      <td>0.027944</td>\n",
       "    </tr>\n",
       "    <tr>\n",
       "      <th>4</th>\n",
       "      <td>http://1063thebuzz.com/category/reviews/page/7/</td>\n",
       "      <td>2013-05-18 10:31:09</td>\n",
       "      <td>CC-MAIN-2013-20</td>\n",
       "      <td>1.368696e+12</td>\n",
       "      <td>[[https://s3.amazonaws.com/tsm-images/global/1...</td>\n",
       "      <td>Splice Review\\nBlack Ops Escalation Map Pack [...</td>\n",
       "      <td>0.190000</td>\n",
       "      <td>32</td>\n",
       "      <td>0.025000</td>\n",
       "    </tr>\n",
       "  </tbody>\n",
       "</table>\n",
       "</div>"
      ],
      "text/plain": [
       "                                                 url           timestamp  \\\n",
       "0  http://100parts.wordpress.com/2012/08/04/astra... 2013-05-18 10:42:00   \n",
       "1  http://100percentwinnersblog.com/watch-survivo... 2013-05-18 11:02:03   \n",
       "2  http://101squadron.com/blog/2007/05/pesky-pecu... 2013-05-18 10:21:35   \n",
       "3             http://1037theloon.com/tags/scorpions/ 2013-05-18 10:21:51   \n",
       "4    http://1063thebuzz.com/category/reviews/page/7/ 2013-05-18 10:31:09   \n",
       "\n",
       "              dump       segment  \\\n",
       "0  CC-MAIN-2013-20  1.368696e+12   \n",
       "1  CC-MAIN-2013-20  1.368696e+12   \n",
       "2  CC-MAIN-2013-20  1.368696e+12   \n",
       "3  CC-MAIN-2013-20  1.368696e+12   \n",
       "4  CC-MAIN-2013-20  1.368696e+12   \n",
       "\n",
       "                                          image_urls  \\\n",
       "0                                                 []   \n",
       "1                                                 []   \n",
       "2  [[http://101squadron.com/uploaded_images/Conge...   \n",
       "3                                                 []   \n",
       "4  [[https://s3.amazonaws.com/tsm-images/global/1...   \n",
       "\n",
       "                                                text  \\\n",
       "0  these birches can be found in many places in E...   \n",
       "1  Watch Survivor Redemption Island Season 22 Epi...   \n",
       "2  Pesky?\\nthis was a high school project for a p...   \n",
       "3  metalkingdom.net [ 80′s @ 8 Feature Video – Bi...   \n",
       "4  Splice Review\\nBlack Ops Escalation Map Pack [...   \n",
       "\n",
       "   Uppercase_Letter_Fraction  Num_Words  Num_Chars_Fraction  \n",
       "0                   0.027237         93            0.007782  \n",
       "1                   0.042616       1885            0.009166  \n",
       "2                   0.005128         37            0.000000  \n",
       "3                   0.091816         92            0.027944  \n",
       "4                   0.190000         32            0.025000  "
      ]
     },
     "execution_count": 15,
     "metadata": {},
     "output_type": "execute_result"
    }
   ],
   "source": [
    "modin_df.head()"
   ]
  },
  {
   "cell_type": "markdown",
   "id": "0ee28c1b-dbc1-4745-9488-f922d754eeed",
   "metadata": {},
   "source": [
    "#### Results are based on running the following versions of pandas and Modin on a 8-core, 16 GB Macbook Air."
   ]
  },
  {
   "cell_type": "code",
   "execution_count": 16,
   "id": "1a1f8441-e7c6-4e4b-bdbc-f2263533c86b",
   "metadata": {},
   "outputs": [
    {
     "name": "stdout",
     "output_type": "stream",
     "text": [
      "pandas version: 2.2.1\n",
      "Modin version: 0.28.1\n"
     ]
    }
   ],
   "source": [
    "print(f\"pandas version: {pandas.__version__}\")\n",
    "print(f\"Modin version: {pd.__version__}\")"
   ]
  },
  {
   "cell_type": "markdown",
   "id": "e49d44c0-4761-44b4-8c6e-8dd6d215d84d",
   "metadata": {},
   "source": [
    "# Filtering corpus based on signals"
   ]
  },
  {
   "cell_type": "markdown",
   "id": "8718ea46-96bb-4664-86f1-05122815eeb7",
   "metadata": {},
   "source": [
    "Let's use Arctic to help us filter the text corpus based on the signals we computed. You can access the Arctic chatbot (built on Streamlit! ✨) [here](https://arctic.streamlit.app/ )\n",
    "\n",
    "Ask Arctic: \n",
    "\n",
    "```\n",
    "For dataframe named pandas_df with columns Uppercase_Letter_Fraction Num_Words Num_Chars_Fraction,\n",
    "filter to num_words > 50 and Uppercase_Letter_Fraction>0\n",
    "```"
   ]
  },
  {
   "cell_type": "code",
   "execution_count": 17,
   "id": "a1d6c783-bf8a-4468-b4fc-3f50c1f40364",
   "metadata": {},
   "outputs": [],
   "source": [
    "filtered_df = pandas_df[(pandas_df['Num_Words'] > 50) & (pandas_df['Uppercase_Letter_Fraction'] > 0)]"
   ]
  },
  {
   "cell_type": "markdown",
   "id": "e8342fe6-33f9-416a-9fd5-4acc704832d5",
   "metadata": {},
   "source": [
    "Ask Arctic: \n",
    "\n",
    "```\n",
    "Now do the same for a dataframe named modin_df but scale up my code with Modin\n",
    "```"
   ]
  },
  {
   "cell_type": "code",
   "execution_count": 18,
   "id": "9dc9d6ed-c14e-4883-a906-598845cda988",
   "metadata": {},
   "outputs": [],
   "source": [
    "filtered_df = modin_df[(modin_df['Num_Words'] > 50) & (modin_df['Uppercase_Letter_Fraction'] > 0)]"
   ]
  },
  {
   "cell_type": "markdown",
   "id": "035ab130-b1f1-4373-ae8e-080f99f56014",
   "metadata": {},
   "source": [
    "Ask Arctic: \n",
    "\n",
    "```\n",
    "compute and print out fraction of filter_df with original dataframe pandas_df\n",
    "```"
   ]
  },
  {
   "cell_type": "code",
   "execution_count": 19,
   "id": "47942394-051c-4a33-8e73-2d3b314ade7f",
   "metadata": {},
   "outputs": [
    {
     "name": "stdout",
     "output_type": "stream",
     "text": [
      "Fraction of filtered_df with respect to pandas_df: 0.9558354838709677\n"
     ]
    }
   ],
   "source": [
    "original_size = len(pandas_df)\n",
    "filtered_size = len(filtered_df)\n",
    "fraction = filtered_size / original_size\n",
    "print(\"Fraction of filtered_df with respect to pandas_df:\", fraction)"
   ]
  },
  {
   "cell_type": "markdown",
   "id": "905b190a-df45-49b2-81cf-ba6fd48c8c0a",
   "metadata": {},
   "source": [
    "Ask Arctic: \n",
    "```\n",
    "now do the same for modin_df\n",
    "```"
   ]
  },
  {
   "cell_type": "code",
   "execution_count": 20,
   "id": "751dc2c1-a813-47e8-85cf-925488536afb",
   "metadata": {},
   "outputs": [
    {
     "name": "stdout",
     "output_type": "stream",
     "text": [
      "Fraction of filtered_df with respect to modin_df: 0.9558354838709677\n"
     ]
    }
   ],
   "source": [
    "original_size = len(modin_df)\n",
    "filtered_size = len(filtered_df)\n",
    "fraction = filtered_size / original_size\n",
    "print(\"Fraction of filtered_df with respect to modin_df:\", fraction)"
   ]
  }
 ],
 "metadata": {
  "kernelspec": {
   "display_name": "Python 3 (ipykernel)",
   "language": "python",
   "name": "python3"
  },
  "language_info": {
   "codemirror_mode": {
    "name": "ipython",
    "version": 3
   },
   "file_extension": ".py",
   "mimetype": "text/x-python",
   "name": "python",
   "nbconvert_exporter": "python",
   "pygments_lexer": "ipython3",
   "version": "3.11.5"
  }
 },
 "nbformat": 4,
 "nbformat_minor": 5
}
